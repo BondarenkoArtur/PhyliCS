{
 "cells": [
  {
   "cell_type": "markdown",
   "metadata": {},
   "source": [
    "# PhyliCS: tutorial\n",
    "\n",
    "PhyliCS is a pipeline for **multi-sample** copy-number variation (CNV) analysis on\n",
    "**single-cell DNA** sequencing data. It allows to quantify **intra-tumor heterogeneity** and to investigate **temporal and spatial evolution** of tumors.\n",
    "\n",
    "This tutorial is meant to show how to run the main stages of the pipeline. Specificallly, we will execute the code needed to reproduce the second use-case *(Temporal evolution)* presented in the Supplementary materials of our paper and we will, just, list the commands required to reproduce the first use-case *(Spatial intra-tumor heterogeneity)*, since it implies a dataset made of, approximately, 6000 cells and it would take an execution time which is not feasible for a turorial. "
   ]
  },
  {
   "cell_type": "markdown",
   "metadata": {},
   "source": [
    "## Temporal evolution\n",
    "Here, we want to use PhyliCS to investigate temporal evolution of CNVs in a cancer case. To this purpose, we are going to take advantage of the results of one of the CNV analyses performed by Garvin et. al [1] to validate their tool (*Ginkgo*). Specifically, it uses the single-cell data of two samples coming from a breast tumor and its liver metastasis (T16P/M), used by Navin et al. [2] for their study on intra-tumor heterogeneity characterization. Since CNV calls are, publicly, available in Ginkgo github repository, we will skip the CNV calling stage and we will move directly to the analysis.\n",
    "\n",
    "### Single-sample analysis\n",
    "To perform single-sample analysis, type:"
   ]
  },
  {
   "cell_type": "code",
   "execution_count": 1,
   "metadata": {},
   "outputs": [
    {
     "name": "stdout",
     "output_type": "stream",
     "text": [
      "Successfully created the directory data/navin_out/primary_post_CNV \n",
      "Successfully created the directory data/navin_out/metastasis_post_CNV \n",
      "[single_sample_post_analysis]  Complete analysis\n",
      "--------------------------------------------------------------------------------\n",
      "[single_sample_post_analysis]  Computing heatmap and phylogenetic tree (method = complete, metric = euclidean)\n",
      "[single_sample_post_analysis] -- cophenet coefficient: 0.9922210550775276\n",
      "--------------------------------------------------------------------------------\n",
      "[single_sample_post_analysis]  Plotting mean ploidy distribution\n",
      "--------------------------------------------------------------------------------\n",
      "[single_sample_post_analysis]  Computing mean CNV profile\n",
      "[single_sample_post_analysis] -- mean ploidy = 2.884057\n",
      "--------------------------------------------------------------------------------\n",
      "[single_sample_post_analysis]  Computing the optimal number of clusters\n",
      "[single_sample_post_analysis] -- n_clusters = 2 - The average silhouette_score is :0.856911221767078\n",
      "[single_sample_post_analysis] -- n_clusters = 3 - The average silhouette_score is :0.7855678423721268\n",
      "[single_sample_post_analysis] -- n_clusters = 4 - The average silhouette_score is :0.6544219549985235\n",
      "[single_sample_post_analysis] -- n_clusters = 5 - The average silhouette_score is :0.6279465552293995\n",
      "[single_sample_post_analysis] -- n_clusters = 6 - The average silhouette_score is :0.6166950469243341\n",
      "[single_sample_post_analysis] -- n_clusters = 7 - The average silhouette_score is :0.618030443500041\n",
      "[single_sample_post_analysis] -- n_clusters = 8 - The average silhouette_score is :0.6177944602638235\n",
      "[single_sample_post_analysis] -- n_clusters = 9 - The average silhouette_score is :0.6074577336128656\n",
      "[single_sample_post_analysis] -- n_clusters = 10 - The average silhouette_score is :0.5857551344717431\n",
      "[single_sample_post_analysis] -- n_clusters = 11 - The average silhouette_score is :0.5830621888724411\n",
      "[single_sample_post_analysis] -- n_clusters = 12 - The average silhouette_score is :0.4594612704670399\n",
      "[single_sample_post_analysis] -- n_clusters = 13 - The average silhouette_score is :0.4491406513615757\n",
      "[single_sample_post_analysis] -- n_clusters = 14 - The average silhouette_score is :0.44811382365943947\n",
      "[single_sample_post_analysis] -- n_clusters = 15 - The average silhouette_score is :0.4481566909114289\n",
      "[single_sample_post_analysis] -- n_clusters = 16 - The average silhouette_score is :0.39946560241683077\n",
      "[single_sample_post_analysis] -- n_clusters = 17 - The average silhouette_score is :0.40205122881783745\n",
      "[single_sample_post_analysis] -- The maximum average silhouette_score is: 0.856911221767078- The suggested number of clusters is = 2\n",
      "--------------------------------------------------------------------------------\n",
      "[single_sample_post_analysis]  Computing mean cnv profiles for clusters\n",
      "[single_sample_post_analysis] -- cluster 2, mean ploidy = 1.996669\n",
      "[single_sample_post_analysis] -- cluster 1, mean ploidy = 4.560235\n",
      "[single_sample_post_analysis]  Complete analysis\n",
      "--------------------------------------------------------------------------------\n",
      "[single_sample_post_analysis]  Computing heatmap and phylogenetic tree (method = complete, metric = euclidean)\n",
      "[single_sample_post_analysis] -- cophenet coefficient: 0.9983171628081212\n",
      "--------------------------------------------------------------------------------\n",
      "[single_sample_post_analysis]  Plotting mean ploidy distribution\n",
      "--------------------------------------------------------------------------------\n",
      "[single_sample_post_analysis]  Computing mean CNV profile\n",
      "[single_sample_post_analysis] -- mean ploidy = 3.035934\n",
      "--------------------------------------------------------------------------------\n",
      "[single_sample_post_analysis]  Computing the optimal number of clusters\n",
      "[single_sample_post_analysis] -- n_clusters = 2 - The average silhouette_score is :0.856830790976819\n",
      "[single_sample_post_analysis] -- n_clusters = 3 - The average silhouette_score is :0.8385005491292189\n",
      "[single_sample_post_analysis] -- n_clusters = 4 - The average silhouette_score is :0.5629006769841983\n",
      "[single_sample_post_analysis] -- n_clusters = 5 - The average silhouette_score is :0.5487766161639603\n",
      "[single_sample_post_analysis] -- n_clusters = 6 - The average silhouette_score is :0.5395722193661906\n",
      "[single_sample_post_analysis] -- n_clusters = 7 - The average silhouette_score is :0.539163763453575\n",
      "[single_sample_post_analysis] -- n_clusters = 8 - The average silhouette_score is :0.5163432427421001\n",
      "[single_sample_post_analysis] -- n_clusters = 9 - The average silhouette_score is :0.5199209159098855\n",
      "[single_sample_post_analysis] -- n_clusters = 10 - The average silhouette_score is :0.521214418961958\n",
      "[single_sample_post_analysis] -- n_clusters = 11 - The average silhouette_score is :0.5186342950886937\n",
      "[single_sample_post_analysis] -- n_clusters = 12 - The average silhouette_score is :0.4984745619720221\n",
      "[single_sample_post_analysis] -- n_clusters = 13 - The average silhouette_score is :0.49768735287361304\n",
      "[single_sample_post_analysis] -- n_clusters = 14 - The average silhouette_score is :0.49696659162116724\n",
      "[single_sample_post_analysis] -- n_clusters = 15 - The average silhouette_score is :0.49522008045511107\n",
      "[single_sample_post_analysis] -- n_clusters = 16 - The average silhouette_score is :0.4919713832518255\n",
      "[single_sample_post_analysis] -- n_clusters = 17 - The average silhouette_score is :0.48893360755753434\n",
      "[single_sample_post_analysis] -- The maximum average silhouette_score is: 0.856830790976819- The suggested number of clusters is = 2\n",
      "--------------------------------------------------------------------------------\n",
      "[single_sample_post_analysis]  Computing mean cnv profiles for clusters\n",
      "[single_sample_post_analysis] -- cluster 2, mean ploidy = 1.978341\n",
      "[single_sample_post_analysis] -- cluster 1, mean ploidy = 4.185492\n"
     ]
    }
   ],
   "source": [
    "!mkdir data/navin_out \n",
    "!phylics --run --run_single --input_dirs primary:data/navin_primary metastasis:data/navin_metastasis --meta_format json --output_path data/navin_out --verbose"
   ]
  },
  {
   "cell_type": "markdown",
   "metadata": {},
   "source": [
    "#### Output\n",
    "- `data/navin_out/<sample_name>_post_CNV`\n",
    "    - `heatmap.png`: heatmap and dendrogram computed by the phylogenetic algorithm. \n",
    "    - `mean_cnv.png`: average copy-number plot. It shows which is the average copy-number, computed on all cells, for each genome position.\n",
    "    \n",
    "    - `mean_ploidy_distribution.svg`: mean ploidy density distribution plot. The mean ploidy is the mean copy-number of each single cell and this plot shows how the mean ploidies are distributed. It allows to high-light groups of pseudo-diploids cells.\n",
    "    \n",
    "    - `silhouette_results.png`: silhouette plot for each of the tested K's. \n",
    "    - `per_k_silhouette_scores.csv`: average silhoutte scores for each of the  tested K's.\n",
    "    - `silhouette_summary.png`: dot plot of the silhouette score for the tested K's.\n",
    "    - `clusters.tsv`: composition and mean copy-number of the clusters built with the Silhouette method.\n",
    "    - `clusters_heatmap.png`: heatmaps of the  clusters built with the Silhouette method.\n",
    "    - `metadata.json`: file containing some general information about the current analysis.\n",
    "    "
   ]
  },
  {
   "cell_type": "markdown",
   "metadata": {},
   "source": [
    "### Cell filtering\n",
    "To filter out normal cells, type:"
   ]
  },
  {
   "cell_type": "code",
   "execution_count": 2,
   "metadata": {},
   "outputs": [
    {
     "name": "stdout",
     "output_type": "stream",
     "text": [
      "Cell filtering execution\n",
      "Successfully created the directory data/navin_out/primary_filtered \n",
      "[valid_cells]  Initial cells: 52\n",
      "[valid_cells]  Filtered out cells: 33\n",
      "[valid_cells]  Remaining cells: 19\n"
     ]
    }
   ],
   "source": [
    "!phylics --run_cell_filtering --input_dirs primary:data/navin_primary --intervals 1.5-2.3 --output_path data/navin_out --verbose"
   ]
  },
  {
   "cell_type": "code",
   "execution_count": 3,
   "metadata": {},
   "outputs": [
    {
     "name": "stdout",
     "output_type": "stream",
     "text": [
      "Cell filtering execution\n",
      "Successfully created the directory data/navin_out/metastasis_filtered \n",
      "[valid_cells]  Initial cells: 48\n",
      "[valid_cells]  Filtered out cells: 25\n",
      "[valid_cells]  Remaining cells: 23\n"
     ]
    }
   ],
   "source": [
    "!phylics --run_cell_filtering --input_dirs metastasis:data/navin_metastasis --intervals 1.5-2.3 --output_path data/navin_out --verbose"
   ]
  },
  {
   "cell_type": "markdown",
   "metadata": {},
   "source": [
    "### Multiple-sample analysis\n",
    "To perform multiple-sample analysis, type:"
   ]
  },
  {
   "cell_type": "code",
   "execution_count": 4,
   "metadata": {},
   "outputs": [
    {
     "name": "stdout",
     "output_type": "stream",
     "text": [
      "Successfully created the directory data/navin_out/primary_metastasis_postCNV \n",
      "[multi_sample_post_analysis]  CNV calls merging\n",
      "--------------------------------------------------------------------------------\n",
      "[multi_sample_post_analysis]  Complete analysis\n",
      "--------------------------------------------------------------------------------\n",
      "[multi_sample_post_analysis]  Heterogeneity score computation\n",
      "[multi_sample_post_analysis] -- Permutation test (n_permutations = 1000)\n",
      "[multi_sample_post_analysis] ---- iteration: 0\n",
      "[multi_sample_post_analysis] ---- iteration: 100\n",
      "[multi_sample_post_analysis] ---- iteration: 200\n",
      "[multi_sample_post_analysis] ---- iteration: 300\n",
      "[multi_sample_post_analysis] ---- iteration: 400\n",
      "[multi_sample_post_analysis] ---- iteration: 500\n",
      "[multi_sample_post_analysis] ---- iteration: 600\n",
      "[multi_sample_post_analysis] ---- iteration: 700\n",
      "[multi_sample_post_analysis] ---- iteration: 800\n",
      "[multi_sample_post_analysis] ---- iteration: 900\n",
      "[multi_sample_post_analysis] ---- Permutation test done (15.450407028198242s)\n",
      "[multi_sample_post_analysis] -- Samples: ['metastasis', 'primary']\n",
      "[multi_sample_post_analysis] -- The average heterogenity score is: 0.364985 (pvalue=0.0000)\n",
      "--------------------------------------------------------------------------------\n",
      "[multi_sample_post_analysis]  Computing heatmap and phylogenetic tree (method = complete, metric = euclidean)\n",
      "AxesSubplot(0.125,0.11;0.148443x0.611921)\n",
      "[multi_sample_post_analysis] -- Cophenet coefficient: 0.9625680935699645\n",
      "--------------------------------------------------------------------------------\n",
      "[multi_sample_post_analysis]  Computing the optimal number of clusters\n",
      "[multi_sample_post_analysis] -- n_clusters = 2 - The average silhouette_score is :0.6502696895757032\n",
      "[multi_sample_post_analysis] -- n_clusters = 3 - The average silhouette_score is :0.3530792547785568\n",
      "[multi_sample_post_analysis] -- n_clusters = 4 - The average silhouette_score is :0.38289063848373206\n",
      "[multi_sample_post_analysis] -- n_clusters = 5 - The average silhouette_score is :0.36164618691197536\n",
      "[multi_sample_post_analysis] -- n_clusters = 6 - The average silhouette_score is :0.35376130783748816\n",
      "[multi_sample_post_analysis] -- n_clusters = 7 - The average silhouette_score is :0.35390615282713506\n",
      "[multi_sample_post_analysis] -- n_clusters = 8 - The average silhouette_score is :0.2268146211962616\n",
      "[multi_sample_post_analysis] -- n_clusters = 9 - The average silhouette_score is :0.2265224514752305\n",
      "[multi_sample_post_analysis] -- n_clusters = 10 - The average silhouette_score is :0.2137245994311873\n",
      "[multi_sample_post_analysis] -- n_clusters = 11 - The average silhouette_score is :0.1975828156366297\n",
      "[multi_sample_post_analysis] -- n_clusters = 12 - The average silhouette_score is :0.18706350501060706\n",
      "[multi_sample_post_analysis] -- n_clusters = 13 - The average silhouette_score is :0.18659669825333203\n",
      "[multi_sample_post_analysis] -- n_clusters = 14 - The average silhouette_score is :0.15972681360241858\n",
      "[multi_sample_post_analysis] -- n_clusters = 15 - The average silhouette_score is :0.13364621850359018\n",
      "[multi_sample_post_analysis] -- n_clusters = 16 - The average silhouette_score is :0.1377349878382021\n",
      "[multi_sample_post_analysis] -- n_clusters = 17 - The average silhouette_score is :0.13440086471525695\n",
      "[multi_sample_post_analysis] -- The maximum average silhouette_score is: 0.6502696895757032- The suggested number of clusters is = 2\n",
      "--------------------------------------------------------------------------------\n",
      "[multi_sample_post_analysis]  Computing mean cnv profiles for clusters\n",
      "[multi_sample_post_analysis] -- cluster 2, mean ploidy = 2.887285\n",
      "[multi_sample_post_analysis] -- cluster 1, mean ploidy = 4.350013\n"
     ]
    }
   ],
   "source": [
    "!phylics --run --run_multiple --input_dirs primary:data/navin_out/primary_filtered metastasis:data/navin_out/metastasis_filtered --n_permutations 1000 --meta_format json --output_path data/navin_out --verbose"
   ]
  },
  {
   "cell_type": "markdown",
   "metadata": {},
   "source": [
    "### Download data\n",
    "```\n",
    "!mkdir -p 10x_dataset/breast_tissue_A 10x_dataset/breast_tissue_B 10x_dataset/breast_tissue_C\n",
    "!wget -O 10x_dataset/breast_tissue_A/possorted_bam.bam http://s3-us-west-2.amazonaws.com/10x.files/samples/cell-dna/1.1.0/breast_tissue_A_2k/breast_tissue_A_2k_possorted_bam.bam\n",
    "!wget -O 10x_dataset/breast_tissue_A/per_cell_summary_metrics.csv http://cf.10xgenomics.com/samples/cell-dna/1.1.0/breast_tissue_A_2k/breast_tissue_A_2k_per_cell_summary_metrics.csv\n",
    "!wget -O 10x_dataset/breast_tissue_B/possorted_bam.bam http://s3-us-west-2.amazonaws.com/10x.files/samples/cell-dna/1.1.0/breast_tissue_B_2k/breast_tissue_B_2k_possorted_bam.bam\n",
    "!wget -O 10x_dataset/breast_tissue_B/per_cell_summary_metrics.csv http://cf.10xgenomics.com/samples/cell-dna/1.1.0/breast_tissue_B_2k/breast_tissue_B_2k_per_cell_summary_metrics.csv\n",
    "!wget -O 10x_dataset/breast_tissue_C/possorted_bam.bam http://s3-us-west-2.amazonaws.com/10x.files/samples/cell-dna/1.1.0/breast_tissue_C_2k/breast_tissue_C_2k_possorted_bam.bam\n",
    "!wget -O 10x_dataset/breast_tissue_B/per_cell_summary_metrics.csv http://cf.10xgenomics.com/samples/cell-dna/1.1.0/breast_tissue_C_2k/breast_tissue_C_2k_per_cell_summary_metrics.csv\n",
    "```"
   ]
  },
  {
   "cell_type": "code",
   "execution_count": null,
   "metadata": {},
   "outputs": [],
   "source": []
  },
  {
   "cell_type": "code",
   "execution_count": null,
   "metadata": {},
   "outputs": [],
   "source": []
  },
  {
   "cell_type": "markdown",
   "metadata": {},
   "source": [
    "## References\n",
    "1. Tyler Garvin, Robert Aboukhalil, Jude Kendall, Timour Baslan, Gurinder S Atwal, James Hicks, Michael Wigler, and Michael C Schatz. Interactive analysis and assessment of single-cell copy-number variations. Nature methods, 12(11):1058, 2015.\n",
    "\n",
    "2. Nicholas Navin, Alexander Krasnitz, Linda Rodgers, Kerry Cook, Jennifer Meth, Jude Kendall, Michael Riggs, Yvonne Eberling, Jennifer Troge, Vladimir Grubor, et al. Inferring tumor progression from genomic heterogeneity. Genome research, 20(1):68–80, 2010.\n"
   ]
  },
  {
   "cell_type": "code",
   "execution_count": null,
   "metadata": {},
   "outputs": [],
   "source": []
  }
 ],
 "metadata": {
  "kernelspec": {
   "display_name": "Python 3",
   "language": "python",
   "name": "python3"
  },
  "language_info": {
   "codemirror_mode": {
    "name": "ipython",
    "version": 3
   },
   "file_extension": ".py",
   "mimetype": "text/x-python",
   "name": "python",
   "nbconvert_exporter": "python",
   "pygments_lexer": "ipython3",
   "version": "3.6.7"
  }
 },
 "nbformat": 4,
 "nbformat_minor": 2
}
